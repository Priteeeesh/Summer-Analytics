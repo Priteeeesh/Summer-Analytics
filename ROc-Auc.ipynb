{
 "cells": [
  {
   "cell_type": "code",
   "execution_count": 250,
   "metadata": {},
   "outputs": [],
   "source": [
    "import numpy as np\n",
    "import pandas as pd\n",
    "import matplotlib.pyplot as plt\n",
    "from sklearn.model_selection import train_test_split\n",
    "from sklearn.linear_model import LogisticRegression\n",
    "from sklearn.ensemble import RandomForestClassifier"
   ]
  },
  {
   "cell_type": "code",
   "execution_count": 251,
   "metadata": {},
   "outputs": [],
   "source": [
    "import seaborn as sns\n",
    "from sklearn.metrics import accuracy_score, roc_auc_score\n",
    "from sklearn.feature_selection import VarianceThreshold"
   ]
  },
  {
   "cell_type": "code",
   "execution_count": 252,
   "metadata": {},
   "outputs": [
    {
     "data": {
      "text/plain": [
       "Index(['Id', 'Age', 'Attrition', 'BusinessTravel', 'Department',\n",
       "       'DistanceFromHome', 'Education', 'EducationField', 'EmployeeNumber',\n",
       "       'EnvironmentSatisfaction', 'Gender', 'JobInvolvement', 'JobRole',\n",
       "       'JobSatisfaction', 'MaritalStatus', 'MonthlyIncome',\n",
       "       'NumCompaniesWorked', 'OverTime', 'PercentSalaryHike',\n",
       "       'PerformanceRating', 'StockOptionLevel', 'TotalWorkingYears',\n",
       "       'TrainingTimesLastYear', 'YearsAtCompany', 'YearsInCurrentRole',\n",
       "       'YearsSinceLastPromotion', 'YearsWithCurrManager', 'CommunicationSkill',\n",
       "       'Behaviour'],\n",
       "      dtype='object')"
      ]
     },
     "execution_count": 252,
     "metadata": {},
     "output_type": "execute_result"
    }
   ],
   "source": [
    "df = pd.read_csv(\"train.csv\")\n",
    "df.head()\n",
    "df.columns"
   ]
  },
  {
   "cell_type": "code",
   "execution_count": 253,
   "metadata": {},
   "outputs": [],
   "source": [
    "x = pd.read_csv('train.csv')\n",
    "y = x.Attrition\n",
    "x.drop(['Attrition'], axis=1, inplace=True)\n",
    "\n",
    "# Get list of categorical variables\n",
    "s = (x.dtypes == 'object')\n",
    "object_cols = list(s[s].index)\n",
    "object_cols = [col for col in x.columns if x[col].dtype == \"object\"]\n",
    "x = pd.get_dummies(x, prefix_sep=\" \",columns=object_cols)"
   ]
  },
  {
   "cell_type": "code",
   "execution_count": 254,
   "metadata": {},
   "outputs": [],
   "source": [
    "x_train, x_test, y_train, y_test = train_test_split(x, y,train_size=0.8,test_size=0.2,random_state=0,stratify = y)"
   ]
  },
  {
   "cell_type": "code",
   "execution_count": 255,
   "metadata": {},
   "outputs": [
    {
     "data": {
      "text/plain": [
       "((1302, 49), (326, 49))"
      ]
     },
     "execution_count": 255,
     "metadata": {},
     "output_type": "execute_result"
    }
   ],
   "source": [
    "x_train.shape, x_test.shape"
   ]
  },
  {
   "cell_type": "code",
   "execution_count": 256,
   "metadata": {},
   "outputs": [],
   "source": [
    "constant_filter = VarianceThreshold(threshold=0.01)\n",
    "constant_filter.fit(x_train)\n",
    "x_tr = constant_filter.transform(x_train)\n",
    "x_te = constant_filter.transform(x_test)"
   ]
  },
  {
   "cell_type": "code",
   "execution_count": 257,
   "metadata": {},
   "outputs": [
    {
     "data": {
      "text/plain": [
       "((1302, 48), (326, 48))"
      ]
     },
     "execution_count": 257,
     "metadata": {},
     "output_type": "execute_result"
    }
   ],
   "source": [
    "x_tr.shape, x_te.shape"
   ]
  },
  {
   "cell_type": "code",
   "execution_count": null,
   "metadata": {},
   "outputs": [],
   "source": []
  },
  {
   "cell_type": "code",
   "execution_count": 258,
   "metadata": {},
   "outputs": [],
   "source": [
    "x_tr_t = x_tr.T\n",
    "x_te_t = x_te.T"
   ]
  },
  {
   "cell_type": "code",
   "execution_count": 259,
   "metadata": {},
   "outputs": [],
   "source": [
    "x_tr_t = pd.DataFrame(x_tr_t)\n",
    "x_te_t = pd.DataFrame(x_te_t)"
   ]
  },
  {
   "cell_type": "code",
   "execution_count": 260,
   "metadata": {},
   "outputs": [
    {
     "data": {
      "text/plain": [
       "0"
      ]
     },
     "execution_count": 260,
     "metadata": {},
     "output_type": "execute_result"
    }
   ],
   "source": [
    "x_tr_t.duplicated().sum()"
   ]
  },
  {
   "cell_type": "code",
   "execution_count": null,
   "metadata": {},
   "outputs": [],
   "source": []
  },
  {
   "cell_type": "code",
   "execution_count": 261,
   "metadata": {},
   "outputs": [],
   "source": [
    "roc_auc = []\n",
    "for feature in x_train.columns:\n",
    "    clf = RandomForestClassifier(n_estimators=100, random_state=0)\n",
    "    clf.fit(x_train[feature].to_frame(),y_train)\n",
    "    y_pred = clf.predict(x_test[feature].to_frame())\n",
    "    roc_auc.append(roc_auc_score(y_test,y_pred))"
   ]
  },
  {
   "cell_type": "code",
   "execution_count": 262,
   "metadata": {},
   "outputs": [
    {
     "name": "stdout",
     "output_type": "stream",
     "text": [
      "[0.870764708099348, 0.5991030038065805, 0.5886443297026344, 0.45665774695662004, 0.9230769230769231, 0.5302076659254513, 0.5838766818678627, 0.5486375456978103, 0.8964497041420119, 0.5176195680850262, 0.563128933780575, 0.5, 0.6077149210417215, 0.5988768703124411, 0.572230806919685, 0.6605547808389551, 0.6186447065917913, 0.5554027060641464, 0.6287264915388385, 0.5085930727772962, 0.5, 0.49204763878943203, 0.5716089398108016, 0.5795613010213696, 0.4897486149323484, 0.5736252968002111, 0.5838766818678627, 0.4977198206007613, 0.5130592092865488, 0.5286435759243207, 0.5, 0.5, 0.531376022311838, 0.5, 0.5, 0.5437002977424339, 0.4897486149323484, 0.5215769042324653, 0.5, 0.5097991180793728, 0.5, 0.5, 0.5149624995288885, 0.5805223683714619, 0.5368974484604079, 0.5786002336712773, 0.6154976821316851, 0.675799947235518, 0.675799947235518]\n"
     ]
    }
   ],
   "source": [
    "print(roc_auc)"
   ]
  },
  {
   "cell_type": "code",
   "execution_count": 263,
   "metadata": {},
   "outputs": [
    {
     "data": {
      "text/plain": [
       "EmployeeNumber                       0.923077\n",
       "MonthlyIncome                        0.896450\n",
       "Id                                   0.870765\n",
       "OverTime No                          0.675800\n",
       "OverTime Yes                         0.675800\n",
       "YearsAtCompany                       0.660555\n",
       "YearsWithCurrManager                 0.628726\n",
       "YearsInCurrentRole                   0.618645\n",
       "MaritalStatus Single                 0.615498\n",
       "StockOptionLevel                     0.607715\n",
       "Age                                  0.599103\n",
       "TotalWorkingYears                    0.598877\n",
       "DistanceFromHome                     0.588644\n",
       "Department Sales                     0.583877\n",
       "JobInvolvement                       0.583877\n",
       "JobRole Sales Representative         0.580522\n",
       "BusinessTravel Travel_Rarely         0.579561\n",
       "MaritalStatus Married                0.578600\n",
       "Department Research & Development    0.573625\n",
       "TrainingTimesLastYear                0.572231\n",
       "BusinessTravel Travel_Frequently     0.571609\n",
       "PercentSalaryHike                    0.563129\n",
       "YearsSinceLastPromotion              0.555403\n",
       "JobSatisfaction                      0.548638\n",
       "JobRole Healthcare Representative    0.543700\n",
       "MaritalStatus Divorced               0.536897\n",
       "EducationField Technical Degree      0.531376\n",
       "EnvironmentSatisfaction              0.530208\n",
       "EducationField Marketing             0.528644\n",
       "JobRole Laboratory Technician        0.521577\n",
       "NumCompaniesWorked                   0.517620\n",
       "JobRole Sales Executive              0.514962\n",
       "EducationField Life Sciences         0.513059\n",
       "JobRole Manufacturing Director       0.509799\n",
       "CommunicationSkill                   0.508593\n",
       "JobRole Manager                      0.500000\n",
       "JobRole Research Director            0.500000\n",
       "PerformanceRating                    0.500000\n",
       "Gender Female                        0.500000\n",
       "EducationField Other                 0.500000\n",
       "EducationField Medical               0.500000\n",
       "JobRole Research Scientist           0.500000\n",
       "Behaviour                            0.500000\n",
       "Gender Male                          0.500000\n",
       "EducationField Human Resources       0.497720\n",
       "BusinessTravel Non-Travel            0.492048\n",
       "JobRole Human Resources              0.489749\n",
       "Department Human Resources           0.489749\n",
       "Education                            0.456658\n",
       "dtype: float64"
      ]
     },
     "execution_count": 263,
     "metadata": {},
     "output_type": "execute_result"
    }
   ],
   "source": [
    "roc_values = pd.Series(roc_auc)\n",
    "roc_values.index = x_train.columns\n",
    "roc_values.sort_values(ascending = False, inplace = True)\n",
    "roc_values"
   ]
  },
  {
   "cell_type": "code",
   "execution_count": 264,
   "metadata": {},
   "outputs": [
    {
     "data": {
      "text/plain": [
       "<matplotlib.axes._subplots.AxesSubplot at 0x12174f0c788>"
      ]
     },
     "execution_count": 264,
     "metadata": {},
     "output_type": "execute_result"
    },
    {
     "data": {
      "image/png": "[encoded data removed]",
      "text/plain": [
       "<Figure size 432x288 with 1 Axes>"
      ]
     },
     "metadata": {
      "needs_background": "light"
     },
     "output_type": "display_data"
    }
   ],
   "source": [
    "roc_values.plot.bar()"
   ]
  },
  {
   "cell_type": "code",
   "execution_count": 265,
   "metadata": {},
   "outputs": [],
   "source": [
    "sel = roc_values[roc_values>0.498]\n"
   ]
  },
  {
   "cell_type": "code",
   "execution_count": 315,
   "metadata": {},
   "outputs": [],
   "source": [
    "#x_train_roc = x_train[sel.index]\n",
    "#x_test_roc = x_test[sel.index]\n",
    "x_train_roc = x_train.drop(['BusinessTravel Travel_Rarely','Department Sales','EducationField Technical Degree', 'Gender Male','JobRole Sales Representative','MaritalStatus Single','OverTime Yes'],axis=1)\n",
    "x_test_roc = x_test.drop(['BusinessTravel Travel_Rarely','Department Sales','EducationField Technical Degree', 'Gender Male','JobRole Sales Representative','MaritalStatus Single','OverTime Yes'],axis=1)"
   ]
  },
  {
   "cell_type": "code",
   "execution_count": 316,
   "metadata": {},
   "outputs": [
    {
     "data": {
      "text/plain": [
       "(1302, 42)"
      ]
     },
     "execution_count": 316,
     "metadata": {},
     "output_type": "execute_result"
    }
   ],
   "source": [
    "x_train_roc.shape"
   ]
  },
  {
   "cell_type": "code",
   "execution_count": 323,
   "metadata": {},
   "outputs": [],
   "source": [
    "def run(x_train,x_test, y_train,y_test):\n",
    "    clf = RandomForestClassifier(n_estimators=110,max_depth=40,random_state=1)\n",
    "    clf.fit(x_train, y_train)\n",
    "    y_pred = clf.predict(x_test)\n",
    "    print('Accuracy:', accuracy_score(y_test,y_pred))\n",
    "    print('Roc_AUC:', roc_auc_score(y_test,y_pred))"
   ]
  },
  {
   "cell_type": "code",
   "execution_count": 324,
   "metadata": {},
   "outputs": [
    {
     "name": "stdout",
     "output_type": "stream",
     "text": [
      "Accuracy: 0.9386503067484663\n",
      "Roc_AUC: 0.9369841329664946\n",
      "Wall time: 600 ms\n"
     ]
    }
   ],
   "source": [
    "%%time\n",
    "run(x_train_roc,x_test_roc,y_train,y_test)"
   ]
  },
  {
   "cell_type": "code",
   "execution_count": 320,
   "metadata": {},
   "outputs": [
    {
     "name": "stdout",
     "output_type": "stream",
     "text": [
      "Accuracy: 0.9478527607361963\n",
      "Roc_AUC: 0.9463121395997437\n",
      "Wall time: 2.71 s\n"
     ]
    }
   ],
   "source": [
    "%%time\n",
    "run(x_train,x_test,y_train,y_test)"
   ]
  },
  {
   "cell_type": "code",
   "execution_count": 321,
   "metadata": {},
   "outputs": [],
   "source": [
    "xx = pd.read_csv(\"test.csv\")\n",
    "\n",
    "\n",
    "\n",
    "        \n",
    "# Get list of categorical variables\n",
    "s = (xx.dtypes == 'object')\n",
    "object_cols = list(s[s].index)\n",
    "object_cols = [col for col in xx.columns if xx[col].dtype == \"object\"]\n",
    "xx = pd.get_dummies(xx, prefix_sep=\" \",columns=object_cols)\n",
    "        \n"
   ]
  },
  {
   "cell_type": "code",
   "execution_count": 322,
   "metadata": {},
   "outputs": [
    {
     "data": {
      "text/html": [
       "<div>\n",
       "<style scoped>\n",
       "    .dataframe tbody tr th:only-of-type {\n",
       "        vertical-align: middle;\n",
       "    }\n",
       "\n",
       "    .dataframe tbody tr th {\n",
       "        vertical-align: top;\n",
       "    }\n",
       "\n",
       "    .dataframe thead th {\n",
       "        text-align: right;\n",
       "    }\n",
       "</style>\n",
       "<table border=\"1\" class=\"dataframe\">\n",
       "  <thead>\n",
       "    <tr style=\"text-align: right;\">\n",
       "      <th></th>\n",
       "      <th>Id</th>\n",
       "      <th>Attrition</th>\n",
       "    </tr>\n",
       "  </thead>\n",
       "  <tbody>\n",
       "    <tr>\n",
       "      <th>0</th>\n",
       "      <td>1</td>\n",
       "      <td>0.742476</td>\n",
       "    </tr>\n",
       "    <tr>\n",
       "      <th>1</th>\n",
       "      <td>2</td>\n",
       "      <td>0.347438</td>\n",
       "    </tr>\n",
       "    <tr>\n",
       "      <th>2</th>\n",
       "      <td>3</td>\n",
       "      <td>0.938753</td>\n",
       "    </tr>\n",
       "    <tr>\n",
       "      <th>3</th>\n",
       "      <td>4</td>\n",
       "      <td>0.456471</td>\n",
       "    </tr>\n",
       "    <tr>\n",
       "      <th>4</th>\n",
       "      <td>5</td>\n",
       "      <td>0.363193</td>\n",
       "    </tr>\n",
       "  </tbody>\n",
       "</table>\n",
       "</div>"
      ],
      "text/plain": [
       "   Id  Attrition\n",
       "0   1   0.742476\n",
       "1   2   0.347438\n",
       "2   3   0.938753\n",
       "3   4   0.456471\n",
       "4   5   0.363193"
      ]
     },
     "execution_count": 322,
     "metadata": {},
     "output_type": "execute_result"
    }
   ],
   "source": [
    "sample_submission = pd.read_csv('Sample_submission.csv')\n",
    "sample_submission.head()\n",
    "\n"
   ]
  },
  {
   "cell_type": "code",
   "execution_count": 313,
   "metadata": {},
   "outputs": [],
   "source": [
    "clf = RandomForestClassifier(n_estimators=500,max_depth=40,random_state=1)\n",
    "clf.fit(x_train_roc, y_train)\n",
    "xx = xx.drop(['OverTime No','Gender Male','Behaviour','Department Human Resources','JobRole Human Resources','BusinessTravel Non-Travel','EducationField Human Resources','MaritalStatus Single'],axis=1)\n",
    "a = clf.predict_proba(xx)"
   ]
  },
  {
   "cell_type": "code",
   "execution_count": 314,
   "metadata": {},
   "outputs": [
    {
     "data": {
      "text/html": [
       "<div>\n",
       "<style scoped>\n",
       "    .dataframe tbody tr th:only-of-type {\n",
       "        vertical-align: middle;\n",
       "    }\n",
       "\n",
       "    .dataframe tbody tr th {\n",
       "        vertical-align: top;\n",
       "    }\n",
       "\n",
       "    .dataframe thead th {\n",
       "        text-align: right;\n",
       "    }\n",
       "</style>\n",
       "<table border=\"1\" class=\"dataframe\">\n",
       "  <thead>\n",
       "    <tr style=\"text-align: right;\">\n",
       "      <th></th>\n",
       "      <th>Id</th>\n",
       "      <th>Attrition</th>\n",
       "    </tr>\n",
       "  </thead>\n",
       "  <tbody>\n",
       "    <tr>\n",
       "      <th>465</th>\n",
       "      <td>466</td>\n",
       "      <td>0.384</td>\n",
       "    </tr>\n",
       "    <tr>\n",
       "      <th>466</th>\n",
       "      <td>467</td>\n",
       "      <td>0.724</td>\n",
       "    </tr>\n",
       "    <tr>\n",
       "      <th>467</th>\n",
       "      <td>468</td>\n",
       "      <td>0.254</td>\n",
       "    </tr>\n",
       "    <tr>\n",
       "      <th>468</th>\n",
       "      <td>469</td>\n",
       "      <td>0.118</td>\n",
       "    </tr>\n",
       "    <tr>\n",
       "      <th>469</th>\n",
       "      <td>470</td>\n",
       "      <td>0.088</td>\n",
       "    </tr>\n",
       "  </tbody>\n",
       "</table>\n",
       "</div>"
      ],
      "text/plain": [
       "      Id  Attrition\n",
       "465  466      0.384\n",
       "466  467      0.724\n",
       "467  468      0.254\n",
       "468  469      0.118\n",
       "469  470      0.088"
      ]
     },
     "execution_count": 314,
     "metadata": {},
     "output_type": "execute_result"
    }
   ],
   "source": [
    "b=a[:,1]\n",
    "ss=sample_submission.drop('Attrition',axis=1)\n",
    "ss['Attrition']=b\n",
    "ss.to_csv('submissionnew.csv',index=False)\n",
    "ss.tail()"
   ]
  },
  {
   "cell_type": "code",
   "execution_count": null,
   "metadata": {},
   "outputs": [],
   "source": []
  },
  {
   "cell_type": "code",
   "execution_count": null,
   "metadata": {},
   "outputs": [],
   "source": []
  }
 ],
 "metadata": {
  "kernelspec": {
   "display_name": "Python 3",
   "language": "python",
   "name": "python3"
  },
  "language_info": {
   "codemirror_mode": {
    "name": "ipython",
    "version": 3
   },
   "file_extension": ".py",
   "mimetype": "text/x-python",
   "name": "python",
   "nbconvert_exporter": "python",
   "pygments_lexer": "ipython3",
   "version": "3.7.4"
  }
 },
 "nbformat": 4,
 "nbformat_minor": 2
}
